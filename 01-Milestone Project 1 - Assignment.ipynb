{
 "cells": [
  {
   "cell_type": "markdown",
   "metadata": {},
   "source": [
    "# Milestone Project 1\n",
    "## Congratulations on making it to your first milestone!\n",
    "You've already learned a ton and are ready to work on a real project.\n",
    "\n",
    "Your assignment: Create a Tic Tac Toe game. You are free to use any IDE you like.\n",
    "\n",
    "Here are the requirements:\n",
    "\n",
    "* 2 players should be able to play the game (both sitting at the same computer)\n",
    "* The board should be printed out every time a player makes a move\n",
    "* You should be able to accept input of the player position and then place a symbol on the board\n",
    "\n",
    "Feel free to use Google to help you figure anything out (but don't just Google \"Tic Tac Toe in Python\" otherwise you won't learn anything!) Keep in mind that this project can take anywhere between several hours to several days.\n",
    "\n",
    "There are 4 Jupyter Notebooks related to this assignment:\n",
    "\n",
    "* This Assignment Notebook\n",
    "* A \"Walkthrough Steps Workbook\" Notebook\n",
    "* A \"Complete Walkthrough Solution\" Notebook\n",
    "* An \"Advanced Solution\" Notebook\n",
    "\n",
    "I encourage you to just try to start the project on your own without referencing any of the notebooks. If you get stuck, check out the next lecture which is a text lecture with helpful hints and steps. If you're still stuck after that, then check out the Walkthrough Steps Workbook, which breaks up the project in steps for you to solve. Still stuck? Then check out the Complete Walkthrough Solution video for more help on approaching the project!"
   ]
  },
  {
   "cell_type": "markdown",
   "metadata": {},
   "source": [
    "There are parts of this that will be a struggle...and that is good! I have complete faith that if you have made it this far through the course you have all the tools and knowledge to tackle this project. Remember, it's totally open book, so take your time, do a little research, and remember:\n",
    "\n",
    "## HAVE FUN!"
   ]
  },
  {
   "cell_type": "code",
   "execution_count": 1,
   "metadata": {},
   "outputs": [],
   "source": [
    "from IPython.display import clear_output\n",
    "import random"
   ]
  },
  {
   "cell_type": "code",
   "execution_count": 2,
   "metadata": {},
   "outputs": [],
   "source": [
    "def display_board(board):\n",
    "    clear_output()\n",
    "    print('|{}|{}|{}|'.format(board[7],board[8],board[9]))\n",
    "    print('|{}|{}|{}|'.format(board[4],board[5],board[6]))\n",
    "    print('|{}|{}|{}|'.format(board[1],board[2],board[3]))\n",
    "\n",
    "board = ['']*10\n",
    "\n",
    "def player_input():\n",
    "    p1 = '#'#input('Choose your marker : X/O')\n",
    "    while(p1.lower() not in ['x','o']):\n",
    "        print('Choose between X and O')\n",
    "        p1 = input('Choose your marker : X/O')\n",
    "        if p1.lower() == 'x':\n",
    "            p2 = 'o'\n",
    "        elif p1.lower() == 'o':\n",
    "            p2 ='x'\n",
    "    return p1.lower(),p2.lower()\n",
    "\n",
    "def place_marker(board, marker, position):\n",
    "    board[position] = marker\n",
    "    \n",
    "def win_check(board, mark):\n",
    "    return(\n",
    "    (board[1] == board[2] == board[3] == mark or\n",
    "     board[4] == board[5] == board[6] == mark or\n",
    "     board[7] == board[8] == board[9] == mark or\n",
    "     board[1] == board[4] == board[7] == mark or\n",
    "     board[2] == board[5] == board[8] == mark or\n",
    "     board[3] == board[6] == board[9] == mark or\n",
    "     board[1] == board[5] == board[9] == mark or\n",
    "     board[3] == board[5] == board[7] == mark ))\n",
    "\n",
    "def choose_first():\n",
    "    if random.randint(0,1) == 1:\n",
    "        return 'P1'\n",
    "    else:\n",
    "        return 'P2'\n",
    "    \n",
    "def space_check(board, position):\n",
    "    return board[position] == ' '\n",
    "    \n",
    "def full_board_check(board):\n",
    "    \n",
    "    for i in range(1,10):\n",
    "        if board[i] == ' ':\n",
    "            return False\n",
    "    return True\n",
    "\n",
    "def player_choice(board):\n",
    "    pos = 0\n",
    "    while not space_check(board,pos) or pos not in [1,2,3,4,5,6,7,8,9]:\n",
    "        pos = int(input('Enter yor position : '))\n",
    "        \n",
    "    return pos\n",
    "\n",
    "def replay():\n",
    "    return( input('Do you want to play again').lower()[0] == 'y')"
   ]
  },
  {
   "cell_type": "code",
   "execution_count": 3,
   "metadata": {},
   "outputs": [
    {
     "name": "stdout",
     "output_type": "stream",
     "text": [
      "|x|x|o|\n",
      "|x|o| |\n",
      "|x|o|o|\n",
      "P2 won\n",
      "Do you want to play againn\n"
     ]
    }
   ],
   "source": [
    "print('Welcome to Tic Tac Toe!')\n",
    "\n",
    "test_board = [' ']*10\n",
    "while True:\n",
    "#     Set the game up here\n",
    "    p1,p2 = player_input()\n",
    "#     display_board(test_board)\n",
    "    player = choose_first()\n",
    "    print(player + ' will go first')\n",
    "    if input('Are you ready? (Y/N)').lower()[0] == 'y':\n",
    "        game_on =True\n",
    "    else:\n",
    "        game_on = False\n",
    "    board = test_board\n",
    "    while game_on:\n",
    "        display_board(board)\n",
    "        if player == 'P1':#         Player 1 Turn\n",
    "            place_marker(board,p1,player_choice(board))\n",
    "            if win_check(board,p1):\n",
    "                display_board(board)\n",
    "                print('P1 won')\n",
    "                break\n",
    "            else:\n",
    "                if full_board_check(board):\n",
    "                    display_board(board)\n",
    "                    print('Draw')\n",
    "                else:\n",
    "                    player = 'P2'  \n",
    "                \n",
    "        else:#         Player2's turn.\n",
    "            place_marker(board,p2,player_choice(board))\n",
    "            if win_check(board,p2):\n",
    "                display_board(board)\n",
    "                print('P2 won')\n",
    "                break\n",
    "            else:\n",
    "                if full_board_check(board):\n",
    "                    display_board(board)\n",
    "                    print('Draw')\n",
    "                else:\n",
    "                    player = 'P1'              \n",
    "    if not replay():\n",
    "        break"
   ]
  },
  {
   "cell_type": "code",
   "execution_count": null,
   "metadata": {},
   "outputs": [],
   "source": []
  }
 ],
 "metadata": {
  "kernelspec": {
   "display_name": "Python 3",
   "language": "python",
   "name": "python3"
  },
  "language_info": {
   "codemirror_mode": {
    "name": "ipython",
    "version": 3
   },
   "file_extension": ".py",
   "mimetype": "text/x-python",
   "name": "python",
   "nbconvert_exporter": "python",
   "pygments_lexer": "ipython3",
   "version": "3.7.3"
  }
 },
 "nbformat": 4,
 "nbformat_minor": 1
}
